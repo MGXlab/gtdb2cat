{
 "cells": [
  {
   "cell_type": "code",
   "execution_count": 2,
   "id": "5fbe02ef-a50e-48e4-b33c-4e40fe556a4a",
   "metadata": {},
   "outputs": [],
   "source": [
    "from pathlib import Path\n",
    "from Bio import SeqIO\n",
    "from Bio.Seq import Seq\n",
    "from Bio.SeqRecord import SeqRecord\n",
    "import gzip"
   ]
  },
  {
   "cell_type": "markdown",
   "id": "0031906b-ed58-4c6c-a058-95d00cc6de90",
   "metadata": {},
   "source": [
    "# Changelog\n",
    "\n",
    "## 27-07-2021\n",
    "\n",
    "* Fix prot.accession2taxid to reflect changes of the `taxonomy.ipynb`\n",
    "\n",
    "A new function to read the `gtdb.nr.gz` fasta headers and create only the `prot.accession2taxid.FULL.gz` file (`create_prot2taxid`)\n",
    "Since the fasta itself does not contain any taxonomy information I don't need to rewrite it.\n",
    "Having the genome accession available from the taxonomy files should suffice to do this independently.\n",
    "\n",
    "* Write \n",
    "---"
   ]
  },
  {
   "cell_type": "markdown",
   "id": "a3ab7cdc-d7a7-4545-90d8-b8baecacc455",
   "metadata": {},
   "source": [
    "# Download all available proteins for all genomes\n",
    "\n",
    "The following commands will grab everything there is to grab from the NCBI ftp, using \n",
    "the [ncbi-genome-download](https://github.com/kblin/ncbi-genome-download) utility\n",
    "\n",
    "The `<domain>_metadata_r202.tsv` is used here, because that is what I started with. \n",
    "\n",
    "We can probably get the same info from the taxonomy tables used in the `taxonomy.ipynb`.\n",
    "\n",
    "1. Create a list of accessions to download data for\n",
    "\n",
    "* Archaea RefSeq\n",
    "\n",
    "```\n",
    "cut -f1 data/gtdb_info/ar122_metadata_r202.tsv | grep ^RS | sed -e 's/^RS_//g' > archaea_refseq.txt\n",
    "```\n",
    "... and download everything\n",
    "\n",
    "```\n",
    "ncbi-genome-download -s refseq -F protein-fasta -A archaea_refseq.txt -v -p 8 -o results/proteins archaea 2> archaea_refseq.log\n",
    "```\n",
    "---\n",
    "\n",
    "* Achaea genbank\n",
    "\n",
    "```\n",
    "cut -f1 data/gtdb_info/ar122_metadata_r202.tsv | grep ^GB | sed -e 's/^GB_//g' > archaea_genbank.txt\n",
    "```\n",
    "\n",
    ".. and download everything\n",
    "\n",
    "```\n",
    "ncbi-genome-download -s genbank -F protein-fasta -A archaea_genbank.txt -p 8 -vv -o results/proteins archaea 2>archaea_genbank.log\n",
    "```"
   ]
  },
  {
   "cell_type": "markdown",
   "id": "e18b68c1-ec6e-42c8-9779-0a94c43daea8",
   "metadata": {},
   "source": [
    "For `Bacteria` I am running into an issue with the same approach.\n",
    "It is the same as others are describing [here](https://github.com/kblin/ncbi-genome-download/issues/116).\n",
    "\n",
    "After doing some manual checking the entries are not properly parsed, but providing them individually in the command line works.\n",
    "\n",
    "So I ended up using `parallel` to enable multiple concurrent downloads\n",
    "\n",
    "* Bacteria RefSeq\n",
    "\n",
    "1. Construct the list\n",
    "\n",
    "```\n",
    "cut -f1 data/gtdb_info/bac120_metadata_r202.tsv | grep ^RS | sed -e 's/^RS_//g' > results/bacteria_refseq.txt\n",
    "```\n",
    "\n",
    "... and download\n",
    "\n",
    "```\n",
    "parallel -j8 ncbi-genome-download -s refseq -F protein-fasta -A {} -vv bacteria <results.bacteria_refseq.txt 2>results/bacteria.refseq.parallel.log\n",
    "```\n",
    "\n",
    "\n",
    "2. Bacteria Genbank\n",
    "\n",
    "```\n",
    "cut -f1 data/gtdb_info/bac120_metadata_r202.tsv | grep ^GB | sed -e 's/^GB_//g' > results/bacteria_genbank.txt\n",
    "```\n",
    "\n",
    "... and download\n",
    "\n",
    "```\n",
    "parallel -j8 ncbi-genome-download -s refseq -F protein-fasta -A {} -vv bacteria <results.bacteria_refseq.txt 2>results/bacteria.bacteria.parallel.log\n",
    "```\n",
    "\n",
    "----\n",
    "\n",
    "Upon further inspection, this might be a non issue.\n",
    "\n",
    "This \n",
    "\n",
    "```\n",
    "ncbi-genome-download -p 8 -A results/bacteria_genbank_first10.txt --debug -F protein-fasta -s genbank -o ./test_10 bacteria\n",
    "```\n",
    "\n",
    "seems to work ok, despite all the lines printing that look like this...\n",
    "\n",
    "```\n",
    "DEBUG: Skipping entry with incompatible assembly accession 'GCA_018711685.1'\n",
    "DEBUG: Skipping entry with incompatible assembly accession 'GCA_018716505.1'\n",
    "DEBUG: Skipping entry with incompatible assembly accession 'GCA_018713065.1'\n",
    "DEBUG: Skipping entry with incompatible assembly accession 'GCA_018714105.1'\n",
    "DEBUG: Skipping entry with incompatible assembly accession 'GCA_018712565.1'\n",
    "DEBUG: Skipping entry with incompatible assembly accession 'GCA_018716045.1'\n",
    "DEBUG: Skipping entry with incompatible assembly accession 'GCA_018712555.1'\n",
    "DEBUG: Skipping entry with incompatible assembly accession 'GCA_018713505.1'\n",
    "DEBUG: Skipping entry with incompatible assembly accession 'GCA_018711085.1'\n",
    "```"
   ]
  },
  {
   "cell_type": "code",
   "execution_count": 5,
   "id": "12c311de-2ccd-4cdc-b4e6-503bb9009340",
   "metadata": {},
   "outputs": [],
   "source": [
    "# Data directories\n",
    "\n",
    "bac_prot_refseq_dir = Path(\"results/proteins/refseq/bacteria\")\n",
    "bac_prot_genbank_dir = Path(\"results/proteins/genbank/bacteria\")\n",
    "ar_prot_refseq_dir = Path(\"results/proteins/refseq/archaea\")\n",
    "ar_prot_genbank_dir = Path(\"results/proteins/genbank/archaea/\")"
   ]
  },
  {
   "cell_type": "code",
   "execution_count": 3,
   "id": "9a8a9a3a-8d38-404b-a602-f209866d56bb",
   "metadata": {},
   "outputs": [],
   "source": [
    "# Translated taxonomies from taxonomy.ipynb\n",
    "\n",
    "names_dmp = Path(\"results/taxonomy/names.dmp\")"
   ]
  },
  {
   "cell_type": "code",
   "execution_count": 9,
   "id": "912af20e-29b5-4556-aa75-1564d7ec77da",
   "metadata": {},
   "outputs": [],
   "source": [
    "# Raw taxonomies\n",
    "# They contain genome to taxonomy mapping\n",
    "\n",
    "archaea_tax = Path(\"data/gtdb_info/ar122_taxonomy_r202.tsv\")\n",
    "bacteria_tax = Path(\"data/gtdb_info/bac120_taxonomy_r202.tsv\")"
   ]
  },
  {
   "cell_type": "markdown",
   "id": "1d1f62a1-3343-4be5-892a-784fe91c201f",
   "metadata": {},
   "source": [
    "## Load all GTDB genome ids to taxonomy mappings in one dictionary"
   ]
  },
  {
   "cell_type": "code",
   "execution_count": 10,
   "id": "274f3250-0744-4c07-b75b-024d2b7cd1e2",
   "metadata": {},
   "outputs": [],
   "source": [
    "ar_tax_dic = {}\n",
    "with open(archaea_tax, 'r') as fin:\n",
    "    for line in fin:\n",
    "        fields = [f.strip() for f in line.split('\\t')]\n",
    "        ar_tax_dic[fields[0]] = fields[1]"
   ]
  },
  {
   "cell_type": "code",
   "execution_count": 11,
   "id": "debf69d8-fde9-4b41-9ac9-4e8ab52eeea2",
   "metadata": {},
   "outputs": [],
   "source": [
    "bac_tax_dic = {}\n",
    "with open(bacteria_tax, 'r') as fin:\n",
    "    for line in fin:\n",
    "        fields = [f.strip() for f in line.split('\\t')]\n",
    "        bac_tax_dic[fields[0]] = fields[1]"
   ]
  },
  {
   "cell_type": "code",
   "execution_count": 12,
   "id": "fc6fad57-7918-4d71-9b55-91985764a80e",
   "metadata": {},
   "outputs": [],
   "source": [
    "all_tax = {**ar_tax_dic, **bac_tax_dic}"
   ]
  },
  {
   "cell_type": "markdown",
   "id": "6357f794-5460-4ee2-9d9a-cf3e5f220dc8",
   "metadata": {},
   "source": [
    "## Create a mapping of available data directories for bacteria and archaea, genbank and refseq\n",
    "\n",
    "These are not exactly the same with GTDB. They are missing the `GB_` and `RS_` prefixes. The assembly accessions should be unique (enough..)"
   ]
  },
  {
   "cell_type": "code",
   "execution_count": 11,
   "id": "7b33b295-3928-401f-ab36-6299c9698b91",
   "metadata": {},
   "outputs": [],
   "source": [
    "ar_prot_refseq = [d for d in ar_prot_refseq_dir.iterdir() if d.is_dir()]\n",
    "ar_prot_genbank = [d for d in ar_prot_genbank_dir.iterdir() if d.is_dir()]\n",
    "bac_prot_refseq = [d for d in bac_prot_refseq_dir.iterdir() if d.is_dir()]\n",
    "bac_prot_genbank = [d for d in bac_prot_genbank_dir.iterdir() if d.is_dir()]"
   ]
  },
  {
   "cell_type": "code",
   "execution_count": 12,
   "id": "59434bbb-6b91-4d69-ad41-cce6bd37445b",
   "metadata": {},
   "outputs": [],
   "source": [
    "all_data_dirs = ar_prot_refseq + ar_prot_genbank + bac_prot_refseq + bac_prot_genbank"
   ]
  },
  {
   "cell_type": "code",
   "execution_count": 13,
   "id": "49137264-77d4-46e5-8203-310225b8d63f",
   "metadata": {},
   "outputs": [],
   "source": [
    "data_dirs = {d.name: d for d in all_data_dirs}"
   ]
  },
  {
   "cell_type": "markdown",
   "id": "e6cb384e-036a-45d0-9649-f5c1680abade",
   "metadata": {},
   "source": [
    "## Load in the taxonomic names produced here"
   ]
  },
  {
   "cell_type": "code",
   "execution_count": 4,
   "id": "1666ac1f-f855-4c9f-8934-c7f6d5095af3",
   "metadata": {},
   "outputs": [],
   "source": [
    "names_dic = {}\n",
    "with open(names_dmp, 'r') as fin:\n",
    "    for line in fin:\n",
    "        fields = [f.strip() for f in line.split('\\t')]\n",
    "        names_dic[int(fields[0])] = fields[2]"
   ]
  },
  {
   "cell_type": "code",
   "execution_count": 6,
   "id": "980ff847-cee1-4793-931d-b835293139ee",
   "metadata": {},
   "outputs": [],
   "source": [
    "inv_names_dic = {v:k for k,v in names_dic.items()}"
   ]
  },
  {
   "cell_type": "code",
   "execution_count": 7,
   "id": "f5e4195d-6e34-49ff-88d6-df8112cd0512",
   "metadata": {},
   "outputs": [],
   "source": [
    "assert len(names_dic) == len(inv_names_dic)"
   ]
  },
  {
   "cell_type": "code",
   "execution_count": 17,
   "id": "df206f5f-9a02-4add-b85f-96bf96eade19",
   "metadata": {},
   "outputs": [],
   "source": [
    "def get_protein_fasta_from_dir(input_dir):\n",
    "    '''\n",
    "    Helper function to get proteins, if available, for a genome\n",
    "    '''\n",
    "    try:\n",
    "        faa = list(input_dir.glob('*.faa.gz'))[0]\n",
    "        return faa\n",
    "    except IndexError:\n",
    "#         print(\"No proteins found for {} (path: {})\".format(input_dir.name, input_dir))\n",
    "        pass"
   ]
  },
  {
   "cell_type": "code",
   "execution_count": 100,
   "id": "eac3c1f5-3572-4080-8d77-cc88fa06137f",
   "metadata": {},
   "outputs": [],
   "source": [
    "def transform_fasta_headers(input_fasta_gz, uid):\n",
    "    seq_counter = 1\n",
    "    try:\n",
    "        with gzip.open(input_fasta_gz, 'rt') as fin:\n",
    "            for record in SeqIO.parse(fin, \"fasta\"):\n",
    "                new_id = \"{}_{}\".format(uid, seq_counter, record.description)\n",
    "                transformed_record = SeqRecord(record.seq,\n",
    "                                                id=new_id,\n",
    "                                               description=record.description\n",
    "                                              )\n",
    "                seq_counter += 1\n",
    "\n",
    "                yield transformed_record\n",
    "    except EOFError:\n",
    "        # It appears some downloaded files are malformatted\n",
    "        print(input_fasta_gz)\n",
    "        raise"
   ]
  },
  {
   "cell_type": "code",
   "execution_count": 17,
   "id": "219a4f78-1ab6-475b-9c7c-071aa183faff",
   "metadata": {},
   "outputs": [],
   "source": [
    "db_dir = Path(\"results/db\")\n",
    "if not db_dir.exists():\n",
    "    db_dir.mkdir(exist_ok=True)\n",
    "gtdb_nr_gz = db_dir / Path(\"gtdb.nr.gz\")\n",
    "gtdb_nr_fa = db_dir / Path(\"gtdb.nr.fa\")\n",
    "prot2acc_gz = db_dir / Path(\"prot.accession2taxid.gz\")\n",
    "prot2acc = db_dir / Path(\"prot.accession2taxid.txt\")\n"
   ]
  },
  {
   "cell_type": "markdown",
   "id": "71437e59-8fe6-4d3e-a71a-0fa69328466b",
   "metadata": {},
   "source": [
    "## Concatenate all sequences in one big file and produce the prot.accesion2taxid file\n",
    "\n",
    "Some `faa.gz` files might be malformatted. \n",
    "This causes the generator function for the records to break.\n",
    "I included a `try` - `except` clause for this specific case (`EOFError`). \n",
    "Proteins for assembly accessions that throw that, are manually redownloaded before execution of the main loop.\n",
    "If this starts happening more, make a list of accessions that need to be downloaded again (loop in output dir and compare md5sum of file with MD5SUMS stored).\n",
    "\n",
    "Edit:\n",
    "After checking the log file for the downloads job, there are a few entries that have this mismatch.\n",
    "They appear like:\n",
    "```\n",
    "ERROR: Checksum mismatch for './results/proteins/refseq/bacteria/GCF_002886255.1/GCF_002886255.1_ASM288625v1_protein.faa.gz'. Expected '8a0837198683cb1596f579101833e517', got '184c744bf6babf064d4fa623ca908cde'\n",
    "```\n",
    "\n",
    "There are also entries that look like \n",
    "\n",
    "```\n",
    "ERROR: Download from NCBI failed: SSLError(MaxRetryError(\"HTTPSConnectionPool(host='ftp.ncbi.nlm.nih.gov', port=443): Max retries exceeded with url: /genomes/all/GCF/002/899/015/GCF_002899015.1_ASM289901v1/md5checksums.txt (Caused by SSLError(SSLEOFError(8, 'EOF occurred in violation of protocol (_ssl.c:1123)')))\"))\n",
    "\n",
    "```\n",
    "Something went wrong with the connection probably.\n",
    "\n",
    "So let's grab all these and re-download the protein files.\n",
    "\n",
    "The following one liner will:\n",
    "- Grab lines from the log file that start with 'ERROR'\n",
    "- Filter out lines that contain \"No downloads matched\" - this is for accessions that do not appear anyway in the summary files from NCBI (why is that I don't know)\n",
    "- Exactly match the \"GCF_\" accession string to the end of the line \n",
    "- Get only the GCF accession based on path splitting\n",
    "- For some lines the complete assembly accession (e.g. `GCF_002899015.1_ASM289901v1` appear. Strip off the ASM part\n",
    "- Sort and uniqify the list and output it to a file\n"
   ]
  },
  {
   "cell_type": "code",
   "execution_count": 103,
   "id": "51842a4d-8704-4967-a2e7-79f6c7611fdb",
   "metadata": {},
   "outputs": [],
   "source": [
    "!grep \"^ERROR\" results/bacteria.refseq.parallel.log | grep -v \"No downloads matched\" | grep -o \"GCF_.*$\" | cut -f1 -d '/' | cut -f1,2 -d'_' | sort | uniq > results/bacteria.refseq.fix.txt"
   ]
  },
  {
   "cell_type": "markdown",
   "id": "a103b67c-a0a9-4d63-b33b-fa8f72e900ec",
   "metadata": {},
   "source": [
    "Repeat the same logic for Genbank records\n",
    "- Note that GC**F** changes to CC**A**\n"
   ]
  },
  {
   "cell_type": "code",
   "execution_count": 104,
   "id": "966a5d10-dfb6-4a85-924f-13cfa5dd4d37",
   "metadata": {},
   "outputs": [],
   "source": [
    "!grep \"^ERROR.*failed\" results/bacteria.genbank.parallel.log | grep -o \"GCA_.*$\" | cut -f1 -d'/' | cut -f1,2 -d'_' | sort | uniq > results/bacteria.genbank.fix.txt"
   ]
  },
  {
   "cell_type": "code",
   "execution_count": 105,
   "id": "f3264f36-f60a-4655-bbb8-96d1034787b6",
   "metadata": {},
   "outputs": [
    {
     "name": "stdout",
     "output_type": "stream",
     "text": [
      "INFO: Using cached summary.\n",
      "INFO: Checking record 'GCF_000256185.2'\n",
      "INFO: Using cached summary.\n",
      "INFO: Checking record 'GCF_000294185.2'\n",
      "INFO: Using cached summary.\n",
      "INFO: Checking record 'GCF_000815645.1'\n",
      "INFO: Using cached summary.\n",
      "INFO: Checking record 'GCF_000816495.1'\n",
      "INFO: Using cached summary.\n",
      "INFO: Checking record 'GCF_002442495.2'\n",
      "INFO: Using cached summary.\n",
      "INFO: Checking record 'GCF_002445415.1'\n",
      "INFO: Using cached summary.\n",
      "INFO: Checking record 'GCF_002446375.1'\n",
      "INFO: Using cached summary.\n",
      "INFO: Checking record 'GCF_002886255.1'\n",
      "INFO: Using cached summary.\n",
      "INFO: Checking record 'GCF_002896595.1'\n",
      "INFO: Using cached summary.\n",
      "INFO: Checking record 'GCF_002899015.1'\n",
      "INFO: Using cached summary.\n",
      "INFO: Checking record 'GCF_003421705.1'\n",
      "INFO: Using cached summary.\n",
      "INFO: Checking record 'GCF_003422305.1'\n",
      "INFO: Using cached summary.\n",
      "INFO: Checking record 'GCF_003988355.1'\n",
      "INFO: Using cached summary.\n",
      "INFO: Checking record 'GCF_900501045.1'\n"
     ]
    }
   ],
   "source": [
    "!while read -r accession;do \\\n",
    "ncbi-genome-download -vv -s refseq -A $accession -F protein-fasta -o results/proteins bacteria; \\\n",
    "done <results/bacteria.refseq.fix.txt"
   ]
  },
  {
   "cell_type": "code",
   "execution_count": 106,
   "id": "790f7948-0894-41ee-aa36-f8aa16f529f5",
   "metadata": {},
   "outputs": [
    {
     "name": "stdout",
     "output_type": "stream",
     "text": [
      "INFO: Checking record 'GCA_001817295.1'\n"
     ]
    }
   ],
   "source": [
    "!while read -r accession;do \\\n",
    "ncbi-genome-download -vv -s genbank -A $accession -F protein-fasta -o results/proteins bacteria; \\\n",
    "done <results/bacteria.genbank.fix.txt"
   ]
  },
  {
   "cell_type": "code",
   "execution_count": 107,
   "id": "0fdcdd10-2a54-4997-b565-85592abb6579",
   "metadata": {},
   "outputs": [
    {
     "name": "stdout",
     "output_type": "stream",
     "text": [
      "Processed 258400 / 258406 genome ids\r"
     ]
    }
   ],
   "source": [
    "missing_proteins = []\n",
    "valid_proteins = []\n",
    "processed_genome_ids = 0\n",
    "\n",
    "with open(gtdb_nr_fa, 'w') as faa, open(prot2acc, 'wt') as p2acc:\n",
    "    \n",
    "    p2acc.write('{}\\t{}\\n'.format('accession.version', 'taxid'))\n",
    "    \n",
    "    for genome, gtdb_lineage in all_tax.items():\n",
    "        genome_acc = genome[3:]\n",
    "        gtdb_taxid = gtdb_lineage.split(';')[-1]\n",
    "        uid = inv_names_dic[gtdb_taxid]\n",
    "        \n",
    "        try:\n",
    "            genome_proteins = get_protein_fasta_from_dir(data_dirs[genome_acc])\n",
    "            if not genome_proteins:\n",
    "                missing_proteins.append(genome_acc)\n",
    "            else:\n",
    "                for rec in transform_fasta_headers(genome_proteins, genome):\n",
    "                    SeqIO.write(rec, faa, \"fasta\")\n",
    "                    p2acc.write(\"{}\\t{}\\n\".format(rec.id, uid))\n",
    "        except KeyError:\n",
    "    #         print(\"No data dir found for {}\".format(genome_acc))\n",
    "            missing_proteins.append(genome_acc)\n",
    "        finally:\n",
    "            processed_genome_ids += 1\n",
    "            if processed_genome_ids % 10 == 0:\n",
    "                print(\"Processed {} / {} genome ids\\r\".format(processed_genome_ids, len(all_tax)),\n",
    "                      end='')"
   ]
  },
  {
   "cell_type": "code",
   "execution_count": 109,
   "id": "ecaff3c8-0665-4a5c-8d70-8b48f992e241",
   "metadata": {},
   "outputs": [
    {
     "data": {
      "text/plain": [
       "258406"
      ]
     },
     "execution_count": 109,
     "metadata": {},
     "output_type": "execute_result"
    }
   ],
   "source": [
    "processed_genome_ids"
   ]
  },
  {
   "cell_type": "code",
   "execution_count": 110,
   "id": "c9e03898-91dc-4566-b676-0abf08a08d15",
   "metadata": {},
   "outputs": [
    {
     "data": {
      "text/plain": [
       "43299"
      ]
     },
     "execution_count": 110,
     "metadata": {},
     "output_type": "execute_result"
    }
   ],
   "source": [
    "len(missing_proteins)"
   ]
  },
  {
   "cell_type": "code",
   "execution_count": 19,
   "id": "9f37373e-fd11-410a-9fe8-f7dbdcabfaef",
   "metadata": {},
   "outputs": [],
   "source": [
    "def create_prot2taxid(fasta_fp, inv_names_dic, all_taxonomies, prot2taxid_gz):\n",
    "    with gzip.open(fasta_fp, 'rt') as fin, gzip.open(prot2taxid_gz, 'wt') as fout:\n",
    "        fout.write('accession.version\\ttaxid\\n')\n",
    "        for line in fin:\n",
    "            if line.startswith('>'):\n",
    "                # Protein id\n",
    "                prot_id = line.split()[0].replace('>', '')\n",
    "                # Genome accession\n",
    "                genome_acc = '_'.join(prot_id.split('_')[:-1])\n",
    "                \n",
    "                gtdb_lineage = all_taxonomies[genome_acc]\n",
    "                gtdb_name = gtdb_lineage.split(';')[-1]\n",
    "                uid = inv_names_dic[gtdb_name]\n",
    "                fout.write(\"{}\\t{}\\n\".format(prot_id, uid))\n",
    "                \n",
    "                \n",
    "            "
   ]
  },
  {
   "cell_type": "code",
   "execution_count": 20,
   "id": "8dd0e82c-b365-432c-bc34-b2d79d6b254b",
   "metadata": {},
   "outputs": [],
   "source": [
    "create_prot2taxid(gtdb_nr_gz, inv_names_dic, all_tax, prot2acc_gz)"
   ]
  }
 ],
 "metadata": {
  "kernelspec": {
   "display_name": "Python [conda env:ngd]",
   "language": "python",
   "name": "conda-env-ngd-py"
  },
  "language_info": {
   "codemirror_mode": {
    "name": "ipython",
    "version": 3
   },
   "file_extension": ".py",
   "mimetype": "text/x-python",
   "name": "python",
   "nbconvert_exporter": "python",
   "pygments_lexer": "ipython3",
   "version": "3.9.4"
  }
 },
 "nbformat": 4,
 "nbformat_minor": 5
}
