{
 "cells": [
  {
   "cell_type": "code",
   "execution_count": 1,
   "id": "f7411651-00ad-40ef-8a38-e2c117befe20",
   "metadata": {},
   "outputs": [],
   "source": [
    "from pathlib import Path"
   ]
  },
  {
   "cell_type": "markdown",
   "id": "d3d37426-3122-4bdc-86e1-ff7f03b95569",
   "metadata": {},
   "source": [
    "# Changelog"
   ]
  },
  {
   "cell_type": "code",
   "execution_count": 1,
   "id": "a3c96c46-4f12-4499-af8d-1fa7004b0d76",
   "metadata": {},
   "outputs": [],
   "source": [
    "## 02-08-2021"
   ]
  },
  {
   "cell_type": "markdown",
   "id": "459abf23-549f-49fc-bd9c-ed0299c4afe4",
   "metadata": {},
   "source": [
    "* Include parent for rank in the nodes.dmp so that it is compatible with CAT parsing the names and nodes. This was affecting both `CAT prepare` and `CAT contigs`.\n",
    "See also [some info here](https://github.com/dutilh/CAT/issues/60#issuecomment-890135377)\n",
    "\n",
    "* Change 'domain' to 'superkingdom' for 'd__Bacteria' and 'd_Archaea' **only when writing** `nodes.dmp`. This is for compatibility with `CAT add_names` that uses NCBI official ranks."
   ]
  },
  {
   "cell_type": "markdown",
   "id": "af82948a-3d23-4ae1-9abf-05007c3fcbc9",
   "metadata": {},
   "source": [
    "## 27-07-2021\n",
    "\n",
    "* Fix separators when writing `nodes.dmp` and `names.dmp` to official NCBI `\\t|\\t` style.\n",
    "\n",
    "Because:\n",
    "\n",
    "`CAT prepare` is throwing an error when parsing the `nodes.dmp`\n",
    "\n",
    "```\n",
    "2021-07-26 16:37:20] DIAMOND database constructed.\n",
    "[2021-07-26 16:37:20] Loading file ./CAT_taxonomy.2021-07-26/nodes.dmp.\n",
    "Traceback (most recent call last):\n",
    "  File \"/home/nikos/miniconda3/envs/ngd/bin/CAT\", line 84, in <module>\n",
    "    main()\n",
    "  File \"/home/nikos/miniconda3/envs/ngd/bin/CAT\", line 62, in main\n",
    "    prepare.run()\n",
    "  File \"/home/nikos/miniconda3/envs/ngd/share/cat-5.2.3-1/CAT_pack/prepare.py\", line 837, in run\n",
    "    run_existing(args)\n",
    "  File \"/home/nikos/miniconda3/envs/ngd/share/cat-5.2.3-1/CAT_pack/prepare.py\", line 826, in run_existing\n",
    "    prepare(step_list, args)\n",
    "  File \"/home/nikos/miniconda3/envs/ngd/share/cat-5.2.3-1/CAT_pack/prepare.py\", line 472, in prepare\n",
    "    taxid2parent, taxid2rank = tax.import_nodes(\n",
    "  File \"/home/nikos/miniconda3/envs/ngd/share/cat-5.2.3-1/CAT_pack/tax.py\", line 21, in import_nodes\n",
    "    rank = line[4]\n",
    "IndexError: list index out of range\n",
    "```"
   ]
  },
  {
   "cell_type": "code",
   "execution_count": 2,
   "id": "96643d7a-64c2-4f13-9bed-cc0ba7d9198f",
   "metadata": {},
   "outputs": [],
   "source": [
    "ncbi_field_sep = '\\t|\\t'\n",
    "ncbi_line_sep = '\\t|\\n'"
   ]
  },
  {
   "cell_type": "markdown",
   "id": "e7913ee9-ac9c-4552-bf07-817c85cd0a4e",
   "metadata": {},
   "source": [
    "Before the fix:\n",
    "\n",
    "  * My `nodes.dmp` used `\\t` as a separator which yields 3 fields. (so `line[4]` is not there...)\n",
    "  * The official `nodes.dmp` uses `\\t|\\t` as a field terminator as seen in their [readme.txt](https://ftp.ncbi.nih.gov/pub/taxonomy/taxdump_readme.txt).\n",
    "  * `CAT` splits on `\\t` and uses indexes 0,2,4."
   ]
  },
  {
   "cell_type": "markdown",
   "id": "69af4ebe-6690-4e04-8519-5a3df480c5bf",
   "metadata": {},
   "source": [
    "* Fix ordering of official ranks (`class` before `order`), which was causing a lot of issues."
   ]
  },
  {
   "cell_type": "code",
   "execution_count": 3,
   "id": "ae3b95e4-6241-43ae-b8b1-85d5d9fe7e3d",
   "metadata": {},
   "outputs": [],
   "source": [
    "official_ranks = ['domain', 'phylum', 'class', 'order', 'family', 'genus', 'species']"
   ]
  },
  {
   "cell_type": "markdown",
   "id": "9e1b1544-cb04-455c-822c-6ce16f18ed99",
   "metadata": {},
   "source": [
    "* Fix offsets to accomodate some overlap that was causing names to be lost"
   ]
  },
  {
   "cell_type": "markdown",
   "id": "a80e6a31-65a3-4507-9b8f-58e8d050b187",
   "metadata": {},
   "source": [
    "# Goal\n",
    "\n",
    "Translate all taxonomies to unique integer identifiers, similar to NCBI.\n",
    "So for example:\n",
    "\n",
    "```\n",
    "d__Bacteria;p__Proteobacteria;c__Gammaproteobacteria;o__Enterobacterales;f__Enterobacteriaceae;g__Escherichia;s__Escherichia flexneri\n",
    "```\n",
    "\n",
    "can become (arbitrarily chosen here for demonstration puproses)\n",
    "```\n",
    "1; root\n",
    "   2; domain\n",
    "      11; phylum\n",
    "         30; class\n",
    "            120; order\n",
    "               1002; family\n",
    "                  100323; genus\n",
    "                     2342012 species\n",
    "```\n",
    "\n",
    "Then you can make a `names.dmp` like\n",
    "```\n",
    "1 | root| | | | |scientific name |\n",
    "2 | Bacteria| | | | |scientific name |\n",
    "11 | Proteobacteria | | | | scientific name|\n",
    "30| Gammaproteobacteria | | | | scinetific name|\n",
    "120| Enterobacterales | | | | | scientific name|\n",
    "1002| Enterobacteriaceae| | | | scientific name|\n",
    "100323|Escherichia| | | | | | scinetific name|\n",
    "2342012| Echerichia flexneri | | | | | scientific name|\n",
    "```\n",
    "\n",
    "and a `nodes.dmp`\n",
    "\n",
    "```\n",
    "1 | - | no rank (root)\n",
    "2 | 1 | domain \n",
    "11 | 2 | phylum\n",
    "30 | 11 | class\n",
    "120 | 30 | order\n",
    "1002 | 120 | family\n",
    "100323 | 1002 | genus\n",
    "2342012 | 100323 | species\n",
    "```"
   ]
  },
  {
   "cell_type": "markdown",
   "id": "0fb353fd-e181-46eb-8461-bbaae2c0a695",
   "metadata": {},
   "source": [
    "# Required input\n",
    "\n",
    "I am using GTDB `v202`.\n",
    "\n",
    "Data used are available on the [GTDB FTP site](https://data.gtdb.ecogenomic.org/releases/release202/202.0/).\n",
    "\n",
    "Required input are the taxonomy tables:\n",
    "\n",
    "  - Archaea: [ar122_taxonomy_r202.tsv](https://data.gtdb.ecogenomic.org/releases/release202/202.0/ar122_taxonomy_r202.tsv)\n",
    "  - Bacteria: [bac120_taxonomy_r202.tsv](https://data.gtdb.ecogenomic.org/releases/release202/202.0/bac120_taxonomy_r202.tsv)\n",
    "  \n",
    "In the notebooks here I assume these have been downloaded inside the `data/gtdb_info` directory.\n",
    "Run these commands to make the same structure\n",
    "\n",
    "```\n",
    "mkdir -p data/gtdb_info \n",
    "wget -P data/gtdb_info https://data.gtdb.ecogenomic.org/releases/release202/202.0/ar122_taxonomy_r202.tsv \n",
    "wget -P data/gtdb_info https://data.gtdb.ecogenomic.org/releases/release202/202.0/bac120_taxonomy_r202.tsv\n",
    "```\n"
   ]
  },
  {
   "cell_type": "markdown",
   "id": "754dddf4-c67c-4ec8-8d78-b0631b47d270",
   "metadata": {},
   "source": [
    "# STEP 1. Get all unique taxonomies for both bacteria and archaea.\n",
    "\n",
    "Let's count how many unique entries are in each level so we can decide on offsets.\n",
    "\n",
    "The idea is to try to accomodate future expansions of the tree.\n",
    "We don't just assign integers at random, but we define a certain pool of values that \n",
    "a certain taxid, for a certain taxonomy rank, can take.\n",
    "\n",
    "For example, now there are 2 domains `Bacteria` and `Archaea`. What happens if there is \n",
    "a major scientific breakthrough and there is another domain discovered - let's call them `Moderna`?\n",
    "\n",
    "- If everything was just a straight up count then we would grab the next integer available.\n",
    "\n",
    "Assuming we reach `234519` at the end of this excercise then the new domain `Moderna` will \n",
    "be assigned a value of `234520`. Although this is technically the easiest way of doing it, \n",
    "I 'd to have some logic built-in. Because \"Give me domains\" would become\n",
    "```\n",
    "1 Bacteria\n",
    "2 Archaea\n",
    "234520 Moderna\n",
    "```\n",
    "\n",
    "My OCD-self can't handle that :)\n",
    "\n",
    "- Instead I will go for offsetting all levels from certain values. \n",
    "\n",
    "E.g. I will reserve values `1...10` for domains. Then our new `Moderna` domain will get a nice `3` when that \n",
    "time comes and \"Give me domains\" will be as beautiful as \n",
    "\n",
    "```\n",
    "1 Bacteria\n",
    "2 Archaea\n",
    "3 Moderna (<-would you look at that)\n",
    "```\n",
    "\n",
    "Of course this makes no difference whatsoever, and things are bound to get weird higher up the \n",
    "taxonomy. It is much more likely that new genera and species will be disovered, heck even phyla,\n",
    "so at this point it is hard to make proper choices. Which leads to the inevitable question \n",
    "\n",
    "- How many bacterial species are there?\n",
    "\n",
    "So do you offset species at `100000` , `1000000` or `10000000000000` to accommodate everything?\n",
    "\n",
    "Currently, I will choose to ignore this and go count some stuff so I can ballpark it.\n"
   ]
  },
  {
   "cell_type": "code",
   "execution_count": 4,
   "id": "a7ef0325-be58-4a8a-9018-0934848239b0",
   "metadata": {},
   "outputs": [],
   "source": [
    "archaea_tax = Path(\"data/gtdb_info/ar122_taxonomy_r202.tsv\")"
   ]
  },
  {
   "cell_type": "code",
   "execution_count": 5,
   "id": "60234678-fb6b-42bc-af7f-4df962642878",
   "metadata": {},
   "outputs": [],
   "source": [
    "def get_rank_level(rank_string):\n",
    "    if rank_string.startswith('d__'):\n",
    "        return 'domain'\n",
    "    elif rank_string.startswith('p__'):\n",
    "        return 'phylum'\n",
    "    elif rank_string.startswith('c__'):\n",
    "        return 'class'\n",
    "    elif rank_string.startswith('o__'):\n",
    "        return 'order'\n",
    "    elif rank_string.startswith('f__'):\n",
    "        return 'family'\n",
    "    elif rank_string.startswith('g__'):\n",
    "        return 'genus'\n",
    "    elif rank_string.startswith('s__'):\n",
    "        return 'species'\n",
    "    else:\n",
    "        print(\"Unknown rank for: {}\".format(rank_string))\n",
    "        "
   ]
  },
  {
   "cell_type": "code",
   "execution_count": 6,
   "id": "3ec104d9-0e48-43e6-b4b5-8612a04b783d",
   "metadata": {},
   "outputs": [],
   "source": [
    "def create_entries_dic(taxonomy_fp):\n",
    "    '''\n",
    "    Parse a taxonomy file into a dictionary\n",
    "    \n",
    "    This is for getting each unique entry to use as\n",
    "    a name and assign a unique id to.\n",
    "    \n",
    "    Official rank names are used keys, their members \n",
    "    are prefixed with 'p__', 'f__' etc....\n",
    "    \n",
    "    \n",
    "    Return:\n",
    "      unique_ids: dict: Keys are string, values are sets\n",
    "                      {\n",
    "                         'domain' :                            { \n",
    "                           'd__Archaea', \n",
    "                           'd__Bacteria'\n",
    "                            },\n",
    "                          'phylum' : \n",
    "                            {\n",
    "                            'p__phylum1',\n",
    "                            'p__phylum2'\n",
    "                            },\n",
    "                          ...\n",
    "                         }\n",
    "    '''\n",
    "    \n",
    "    entries_dic = dict(zip(official_ranks, [[]]*len(official_ranks)))\n",
    "    \n",
    "    total_entries = 0\n",
    "    \n",
    "    with open(taxonomy_fp, 'r') as fin:\n",
    "        for line in fin:\n",
    "            total_entries +=1            \n",
    "            fields = [f.strip() for f in line.split('\\t')]\n",
    "            lineage = fields[1]\n",
    "            for rank in lineage.split(';'):\n",
    "                level = get_rank_level(rank)                \n",
    "                if len(entries_dic[level]) == 0:\n",
    "                    entries_dic[level] = [rank]\n",
    "                else:\n",
    "                    entries_dic[level].append(rank)\n",
    "                    \n",
    "    unique_ids = {k: set(v) for k,v in entries_dic.items()}\n",
    "    \n",
    "    print(\"Total entries: {}\".format(total_entries))\n",
    "    \n",
    "    return unique_ids\n",
    "    "
   ]
  },
  {
   "cell_type": "code",
   "execution_count": 7,
   "id": "b3b0e569-cada-4a76-bbb9-7528afa6a5f0",
   "metadata": {},
   "outputs": [
    {
     "name": "stdout",
     "output_type": "stream",
     "text": [
      "Total entries: 4316\n"
     ]
    }
   ],
   "source": [
    "archaeal_entries = create_entries_dic(archaea_tax)"
   ]
  },
  {
   "cell_type": "code",
   "execution_count": 8,
   "id": "87974433-a11d-4385-9dcd-e296d1cf50d8",
   "metadata": {},
   "outputs": [
    {
     "name": "stdout",
     "output_type": "stream",
     "text": [
      "domain 1\n",
      "phylum 20\n",
      "class 51\n",
      "order 117\n",
      "family 337\n",
      "genus 851\n",
      "species 2339\n"
     ]
    }
   ],
   "source": [
    "for rank, entry in archaeal_entries.items():\n",
    "    print(rank, len(entry))"
   ]
  },
  {
   "cell_type": "code",
   "execution_count": 9,
   "id": "4b19cf43-9de7-47f8-a56e-2c2e89d52719",
   "metadata": {},
   "outputs": [],
   "source": [
    "bacteria_tax = Path(\"data/gtdb_info/bac120_taxonomy_r202.tsv\")"
   ]
  },
  {
   "cell_type": "code",
   "execution_count": 10,
   "id": "bf9f3fad-323f-4149-bbc4-3c9c4322dc05",
   "metadata": {},
   "outputs": [
    {
     "name": "stdout",
     "output_type": "stream",
     "text": [
      "Total entries: 254090\n"
     ]
    }
   ],
   "source": [
    "bacterial_entries = create_entries_dic(bacteria_tax)"
   ]
  },
  {
   "cell_type": "code",
   "execution_count": 12,
   "id": "fff966a0-28de-4a9d-9f83-a5b91c9d6ded",
   "metadata": {},
   "outputs": [
    {
     "name": "stdout",
     "output_type": "stream",
     "text": [
      "domain 1\n",
      "phylum 149\n",
      "class 368\n",
      "order 1195\n",
      "family 2927\n",
      "genus 12037\n",
      "species 45555\n"
     ]
    }
   ],
   "source": [
    "for rank, entry in bacterial_entries.items():\n",
    "    print(rank ,len(entry))"
   ]
  },
  {
   "cell_type": "markdown",
   "id": "fd116655-f228-4a8b-9282-99ba4ca105c0",
   "metadata": {},
   "source": [
    "Or go see that on the webpage. There are a few differences, though, for archaea.\n",
    "I count 1 extra phylum, 1 extra order, 4 extra classes, 1 extra family."
   ]
  },
  {
   "cell_type": "markdown",
   "id": "92c52c62-53fd-4b66-96a8-0748470c0b75",
   "metadata": {},
   "source": [
    "## Decision point\n",
    "\n",
    "Well, hello arbitrariness. \n",
    "\n",
    "I am being generous for families, genera, and species assuming that, lower in the tree,\n",
    "things are going to be fairly stable. (_Laughs in future taxonomics_)\n",
    "\n",
    "* Domains `1 + 1 = 2`  \n",
    "\n",
    "    - I will use integers [2,5] (4 domains)\n",
    "\n",
    "* Phyla `20 + 149 = 169`\n",
    "\n",
    "    - I will use integers `[6,500]` (495 phyla)\n",
    "    \n",
    "* Classes `51 + 368 = 419` \n",
    "\n",
    "    - I will use integers `[501, 1500]` (1000 classes)\n",
    "        \n",
    "* Orders `117 + 1195 = 1312`\n",
    "\n",
    "    - I will use integers `[1501,5000]` (3500 orders)\n",
    "\n",
    "- Families `337 + 2927 = 3264`\n",
    "\n",
    "    - I will use integers `[5001, 20000]` (15000 families)\n",
    "\n",
    "* Genera `851 + 12037 = 12888`\n",
    "\n",
    "    - I will use integers `[20001, 80000]` (60000 genera)\n",
    "    \n",
    "* Species `2339 + 45555 = 47894`\n",
    "\n",
    "    - I will use integers `[80001, 1000000]` (920000) species"
   ]
  },
  {
   "cell_type": "markdown",
   "id": "15d0568b-8465-4992-b47a-2bb0085061e8",
   "metadata": {},
   "source": [
    "## Merge the dictionaries\n",
    "\n",
    "One would assume that you can make separate offsets for bacteria and archaea but I am being lazy."
   ]
  },
  {
   "cell_type": "code",
   "execution_count": 13,
   "id": "c77c21c5-80e4-4481-b8e3-06abfe54305f",
   "metadata": {},
   "outputs": [],
   "source": [
    "all_entries = {}\n",
    "for rank in archaeal_entries:\n",
    "    all_entries[rank] = archaeal_entries[rank].union(bacterial_entries[rank])"
   ]
  },
  {
   "cell_type": "code",
   "execution_count": 14,
   "id": "5a912e89-0a4c-43d1-b5be-28173ba91996",
   "metadata": {},
   "outputs": [
    {
     "data": {
      "text/plain": [
       "65948"
      ]
     },
     "execution_count": 14,
     "metadata": {},
     "output_type": "execute_result"
    }
   ],
   "source": [
    "sum([len(v) for v in all_entries.values()])"
   ]
  },
  {
   "cell_type": "code",
   "execution_count": 15,
   "id": "9758a2ca-fcb8-4d64-94dc-713663181edd",
   "metadata": {},
   "outputs": [
    {
     "name": "stdout",
     "output_type": "stream",
     "text": [
      "domain 2\n",
      "phylum 169\n",
      "class 419\n",
      "order 1312\n",
      "family 3264\n",
      "genus 12888\n",
      "species 47894\n"
     ]
    }
   ],
   "source": [
    "# Double check with calculations from above\n",
    "for rank, entry in all_entries.items():\n",
    "    print(rank ,len(entry))"
   ]
  },
  {
   "cell_type": "markdown",
   "id": "31472b00-a4e5-4412-8cbd-ded0f0abdd92",
   "metadata": {},
   "source": [
    "# STEP 2. Create the names.dmp"
   ]
  },
  {
   "cell_type": "code",
   "execution_count": 16,
   "id": "093d8198-84ab-4d44-a111-aefe3001a7ac",
   "metadata": {},
   "outputs": [],
   "source": [
    "offsets = dict(zip(official_ranks, [2, 6, 501, 1501, 5001, 20001, 80001]))"
   ]
  },
  {
   "cell_type": "code",
   "execution_count": 17,
   "id": "92a04eb5-5d8f-4080-ace1-156f6664f1e1",
   "metadata": {},
   "outputs": [],
   "source": [
    "names_dic = {}\n",
    "for rank in all_entries:\n",
    "    for i, entry in enumerate(all_entries[rank]):\n",
    "        # add the offset of the rank to the rolling counter\n",
    "        uid = i + offsets[rank]\n",
    "        names_dic[uid] = entry"
   ]
  },
  {
   "cell_type": "code",
   "execution_count": 18,
   "id": "796f6a1e-b13b-490b-87e4-7eae126d3633",
   "metadata": {},
   "outputs": [
    {
     "data": {
      "text/plain": [
       "65948"
      ]
     },
     "execution_count": 18,
     "metadata": {},
     "output_type": "execute_result"
    }
   ],
   "source": [
    "len(names_dic)"
   ]
  },
  {
   "cell_type": "markdown",
   "id": "f3e05916-75b4-4ce4-a5dc-6d2009c1bb56",
   "metadata": {},
   "source": [
    "The standard names.dmp ships like \n",
    "```\n",
    "uid | name | | | | | scientific name |\n",
    "uid | name | | | | | some other comment|\n",
    "```\n",
    "\n",
    "What is important here is that:\n",
    "\n",
    "- This is a tab-separated file. Splitting on `\\t` will give you fields (0-based indexed)\n",
    "    - 0: uid\n",
    "    - 1: name\n",
    "    - 6: the comment. Based on equality to the string `'scientific name'` you can filter and grab the official name for ncbi.\n",
    "        \n",
    "This is how `CAT` imports the information [as seen here](https://github.com/dutilh/CAT/blob/e41ebd66a059b67b43c8e141002f37b3df755509/CAT_pack/tax.py#L29).\n",
    "\n",
    "So this is what we will mimic here"
   ]
  },
  {
   "cell_type": "code",
   "execution_count": 19,
   "id": "954c3ea6-b8af-4d91-a787-7b15d8833457",
   "metadata": {},
   "outputs": [],
   "source": [
    "# Create a taxonomy dir if it is not in there\n",
    "taxonomy_dir = Path('results/taxonomy')\n",
    "if not taxonomy_dir.exists():\n",
    "    taxonomy_dir.mkdir()"
   ]
  },
  {
   "cell_type": "code",
   "execution_count": 20,
   "id": "251d07c6-d2ac-4dfc-b928-194af65854cd",
   "metadata": {},
   "outputs": [],
   "source": [
    "# Specify the path to the output file\n",
    "names_dmp = taxonomy_dir / Path('names.dmp')"
   ]
  },
  {
   "cell_type": "code",
   "execution_count": 22,
   "id": "956f7e7c-a326-4e4e-861a-ce34946379f9",
   "metadata": {},
   "outputs": [],
   "source": [
    "# Dump entries in the dump\n",
    "with open(names_dmp, 'w') as fout:\n",
    "    # Write the root first\n",
    "    root_string = ncbi_field_sep.join(['1', 'root', '', 'scientific name']) + ncbi_line_sep\n",
    "    fout.write(root_string)\n",
    "    for uid in names_dic:\n",
    "        uid_string = ncbi_field_sep.join([str(uid), names_dic[uid], '', 'scientific name']) + ncbi_line_sep\n",
    "        fout.write(uid_string)"
   ]
  },
  {
   "cell_type": "markdown",
   "id": "5efe5d23-37d2-45a7-be76-c7a4f7f1a45e",
   "metadata": {},
   "source": [
    "# STEP 3. Create the nodes.dmp\n",
    "\n",
    "This is a bit trickier. You can probably get that from the tree itself in one go.\n",
    "\n",
    "I will use a less elegant approach and parse this from the file."
   ]
  },
  {
   "cell_type": "markdown",
   "id": "0662591d-cb4b-4ec2-bca1-3a7958eba7bf",
   "metadata": {},
   "source": [
    ">A word of caution: Human readable names are not unique!\n",
    "\n",
    "Exhibit 1: [UBA9089](https://gtdb.ecogenomic.org/searches?s=al&q=UBA9089)\n",
    "  - appears as phylum, class, order, family, genus\n",
    "  \n",
    "Exhibit 2: [RBG-13-43-22](https://gtdb.ecogenomic.org/searches?s=al&q=RBG-13-43-22)\n",
    "  - appears as order, family, genus\n",
    " \n",
    "or [undeniable Xzibit 3](https://images.fanpop.com/images/image_uploads/Xzibit-pimp-my-ride-235615_281_211.jpg) \n",
    "\n",
    "The solution - i.e. using the prefixed string 'p__UBA9089' - has been implemented in the create_names_dic function).\n",
    "\n",
    "This allows to inverse the dic values as keys, which simplifies things."
   ]
  },
  {
   "cell_type": "code",
   "execution_count": 23,
   "id": "334d134a-1748-49de-b3f4-6d09f45e480d",
   "metadata": {},
   "outputs": [],
   "source": [
    "inv_names_dic = {v:k for k,v in names_dic.items()}"
   ]
  },
  {
   "cell_type": "code",
   "execution_count": 24,
   "id": "19053142-2b90-4393-ba1a-f8c2a00d3a19",
   "metadata": {},
   "outputs": [
    {
     "data": {
      "text/plain": [
       "65948"
      ]
     },
     "execution_count": 24,
     "metadata": {},
     "output_type": "execute_result"
    }
   ],
   "source": [
    "len(inv_names_dic)"
   ]
  },
  {
   "cell_type": "code",
   "execution_count": 25,
   "id": "6c7bf994-46f4-4660-87f6-6f0b707fa9e2",
   "metadata": {},
   "outputs": [],
   "source": [
    "assert len(names_dic) == len(inv_names_dic)"
   ]
  },
  {
   "cell_type": "markdown",
   "id": "8f8c4cc6-6ada-4c04-9d27-a64950881473",
   "metadata": {},
   "source": [
    "Sooooo... that looks ok! Makes me wonder if I needed to go through all the fuss for unique numeric ids anyway..."
   ]
  },
  {
   "cell_type": "code",
   "execution_count": 26,
   "id": "c5ba0b52-5fcf-4829-bbb7-3af519dc24b2",
   "metadata": {},
   "outputs": [],
   "source": [
    "nodes_dmp = 'results/taxonomy/nodes.dmp'"
   ]
  },
  {
   "cell_type": "code",
   "execution_count": null,
   "id": "ea9a5c8a-a206-4a70-9262-43be4e0866d0",
   "metadata": {},
   "outputs": [
    {
     "name": "stdout",
     "output_type": "stream",
     "text": [
      "Parsed taxonomy: data/gtdb_info/ar122_taxonomy_r202.tsv\n"
     ]
    }
   ],
   "source": [
    "seen_ranks = []\n",
    "\n",
    "root_node_string = ncbi_field_sep.join(['1', '1', 'no rank']) + ncbi_line_sep\n",
    "with open(nodes_dmp, 'w') as fout:\n",
    "    ## Include root information so CAT parsing works\n",
    "    fout.write(root_node_string)\n",
    "    \n",
    "    for taxonomy_fp in [archaea_tax, bacteria_tax]:\n",
    "        with open(taxonomy_fp, 'r') as fin:\n",
    "            for line in fin:\n",
    "                fields = [f.strip() for f in line.split('\\t')]\n",
    "                lineage = fields[1]\n",
    "                lineage_list = lineage.split(';')\n",
    "                for i, rank in enumerate(lineage_list):\n",
    "                    if i == 0 and (rank not in seen_ranks):\n",
    "                        child_id = inv_names_dic[rank]\n",
    "                        parent_id = 1\n",
    "                        # Use superkingdom instead of domain archaea and bacteria to work\n",
    "                        # better with CAT add names.\n",
    "                        rank_line = ncbi_field_sep.join(map(str, [child_id, parent_id, 'superkingdom'])) + ncbi_line_sep\n",
    "                        fout.write(rank_line)                        \n",
    "                        seen_ranks.append(rank)\n",
    "                    elif i >=1 and (rank not in seen_ranks):\n",
    "                        child_id = inv_names_dic[rank]\n",
    "                        parent_name = lineage_list[i-1]\n",
    "                        parent_id = inv_names_dic[parent_name]\n",
    "                        rank_line = ncbi_field_sep.join(map(str, [child_id, parent_id, official_ranks[i]])) + ncbi_line_sep\n",
    "                        fout.write(rank_line)\n",
    "                        seen_ranks.append(rank)\n",
    "                    else:\n",
    "                        pass\n",
    "        print(\"Parsed taxonomy: {}\".format(taxonomy_fp))\n",
    "#                 print(\"Not sure what to do here: {}\".format(line))\n",
    "                \n",
    "        "
   ]
  },
  {
   "cell_type": "code",
   "execution_count": 64,
   "id": "f2e0f67b-0e12-45eb-ad90-e8741fe444e2",
   "metadata": {},
   "outputs": [
    {
     "data": {
      "text/plain": [
       "65948"
      ]
     },
     "execution_count": 64,
     "metadata": {},
     "output_type": "execute_result"
    }
   ],
   "source": [
    "len(set(seen_ranks))"
   ]
  },
  {
   "cell_type": "markdown",
   "id": "d2360519-92d1-453a-9b5e-2f89aa84e179",
   "metadata": {},
   "source": [
    "# Obsolete functions etc.\n",
    "\n",
    "You never know..\n"
   ]
  },
  {
   "cell_type": "code",
   "execution_count": null,
   "id": "bc3debf0-ff8f-4f2f-9385-1b5e4f240067",
   "metadata": {},
   "outputs": [],
   "source": [
    "def strip_rank_prefix(rank_string):\n",
    "    return rank_string[3:]\n",
    "\n",
    "def create_entries_dic(taxonomy_fp):\n",
    "    '''\n",
    "    '''\n",
    "    entries_dic = dict(zip(official_ranks, [[]]*len(official_ranks)))\n",
    "    total_entries = 0\n",
    "    with open(taxonomy_fp, 'r') as fin:\n",
    "        for line in fin:\n",
    "            total_entries +=1\n",
    "            \n",
    "            fields = [f.strip() for f in line.split('\\t')]\n",
    "            lineage = fields[1]\n",
    "            for rank in lineage.split(';'):\n",
    "                level = get_rank_level(rank)\n",
    "                name = strip_rank_prefix(rank)\n",
    "                if len(entries_dic[level]) == 0:\n",
    "                    entries_dic[level] = [name]\n",
    "                else:\n",
    "                    entries_dic[level].append(name)\n",
    "    unique_ids = {k: set(v) for k,v in entries_dic.items()}\n",
    "    print(\"Total entries: {}\".format(total_entries))\n",
    "    return unique_ids\n",
    "    "
   ]
  }
 ],
 "metadata": {
  "kernelspec": {
   "display_name": "Python [conda env:ngd]",
   "language": "python",
   "name": "conda-env-ngd-py"
  },
  "language_info": {
   "codemirror_mode": {
    "name": "ipython",
    "version": 3
   },
   "file_extension": ".py",
   "mimetype": "text/x-python",
   "name": "python",
   "nbconvert_exporter": "python",
   "pygments_lexer": "ipython3",
   "version": "3.9.4"
  }
 },
 "nbformat": 4,
 "nbformat_minor": 5
}
