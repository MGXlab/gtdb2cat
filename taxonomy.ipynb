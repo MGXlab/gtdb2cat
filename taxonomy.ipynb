{
 "cells": [
  {
   "cell_type": "code",
   "execution_count": 1,
   "id": "f7411651-00ad-40ef-8a38-e2c117befe20",
   "metadata": {},
   "outputs": [],
   "source": [
    "from pathlib import Path"
   ]
  },
  {
   "cell_type": "markdown",
   "id": "a80e6a31-65a3-4507-9b8f-58e8d050b187",
   "metadata": {},
   "source": [
    "# Goal\n",
    "\n",
    "Translate all taxonomies to unique integer identifiers, similar to NCBI.\n",
    "So for example:\n",
    "\n",
    "```\n",
    "d__Bacteria;p__Proteobacteria;c__Gammaproteobacteria;o__Enterobacterales;f__Enterobacteriaceae;g__Escherichia;s__Escherichia flexneri\n",
    "```\n",
    "\n",
    "can become (arbitrarily chosen here for demonstration puproses)\n",
    "```\n",
    "1; root\n",
    "   2; domain\n",
    "      11; phylum\n",
    "         30; class\n",
    "            120; order\n",
    "               1002; family\n",
    "                  100323; genus\n",
    "                     2342012 species\n",
    "```\n",
    "\n",
    "Then you can make a `names.dmp` like\n",
    "```\n",
    "1 | root| | | | |scientific name |\n",
    "2 | Bacteria| | | | |scientific name |\n",
    "11 | Proteobacteria | | | | scientific name|\n",
    "30| Gammaproteobacteria | | | | scinetific name|\n",
    "120| Enterobacterales | | | | | scientific name|\n",
    "1002| Enterobacteriaceae| | | | scientific name|\n",
    "100323|Escherichia| | | | | | scinetific name|\n",
    "2342012| Echerichia flexneri | | | | | scientific name|\n",
    "```\n",
    "\n",
    "and a `nodes.dmp`\n",
    "\n",
    "```\n",
    "1 | - | no rank (root)\n",
    "2 | 1 | domain \n",
    "11 | 2 | phylum\n",
    "30 | 11 | class\n",
    "120 | 30 | order\n",
    "1002 | 120 | family\n",
    "100323 | 1002 | genus\n",
    "2342012 | 100323 | species\n",
    "```"
   ]
  },
  {
   "cell_type": "markdown",
   "id": "0fb353fd-e181-46eb-8461-bbaae2c0a695",
   "metadata": {},
   "source": [
    "# Required input\n",
    "\n",
    "I am using GTDB `v202`.\n",
    "\n",
    "Data used are available on the [GTDB FTP site](https://data.gtdb.ecogenomic.org/releases/release202/202.0/).\n",
    "\n",
    "Required input are the taxonomy tables:\n",
    "\n",
    "  - Archaea: [ar122_taxonomy_r202.tsv](https://data.gtdb.ecogenomic.org/releases/release202/202.0/ar122_taxonomy_r202.tsv)\n",
    "  - Bacteria: [bac120_taxonomy_r202.tsv](https://data.gtdb.ecogenomic.org/releases/release202/202.0/bac120_taxonomy_r202.tsv)\n",
    "  \n",
    "In the notebooks here I assume these have been downloaded inside the `data/gtdb_info` directory.\n",
    "Run these commands to make the same structure\n",
    "\n",
    "```\n",
    "mkdir -p data/gtdb_info \n",
    "wget -P data/gtdb_info https://data.gtdb.ecogenomic.org/releases/release202/202.0/ar122_taxonomy_r202.tsv \n",
    "wget -P data/gtdb_infohttps://data.gtdb.ecogenomic.org/releases/release202/202.0/bac120_taxonomy_r202.tsv\n",
    "```\n"
   ]
  },
  {
   "cell_type": "markdown",
   "id": "754dddf4-c67c-4ec8-8d78-b0631b47d270",
   "metadata": {},
   "source": [
    "# STEP 1. Get all unique taxonomies for both bacteria and archaea.\n",
    "\n",
    "Let's count how many unique entries are in each level so we can decide on offsets.\n",
    "\n",
    "The idea is to try to accomodate future expansions of the tree.\n",
    "We don't just assign integers at random, but we define a certain pool of values that \n",
    "a certain taxid, for a certain taxonomy rank, can take.\n",
    "\n",
    "For example, now there are 2 domains `Bacteria` and `Archaea`. What happens if there is \n",
    "a major scientific breakthrough and there is another domain discovered - let's call them `Moderna`?\n",
    "\n",
    "- If everything was just a straight up count then we would grab the next integer available.\n",
    "\n",
    "Assuming we reach `234519` at the end of this excercise then the new domain `Moderna` will \n",
    "be assigned a value of `234520`. Although this is technically the easiest way of doing it, \n",
    "I 'd to have some logic built-in. Because \"Give me domains\" would become\n",
    "```\n",
    "1 Bacteria\n",
    "2 Archaea\n",
    "234520 Moderna\n",
    "```\n",
    "\n",
    "My OCD-self can't handle that :)\n",
    "\n",
    "- Instead I will go for offsetting all levels from certain values. \n",
    "\n",
    "E.g. I will reserve values `1...10` for domains. Then our new `Moderna` domain will get a nice `3` when that \n",
    "time comes and \"Give me domains\" will be as beautiful as \n",
    "\n",
    "```\n",
    "1 Bacteria\n",
    "2 Archaea\n",
    "3 Moderna (<-would you look at that)\n",
    "```\n",
    "\n",
    "Of course this makes no difference whatsoever, and things are bound to get weird higher up the \n",
    "taxonomy. It is much more likely that new genera and species will be disovered, heck even phyla,\n",
    "so at this point it is hard to make proper choices. Which leads to the inevitable question \n",
    "\n",
    "- How many bacterial species are there?\n",
    "\n",
    "So do you offset species at `100000` , `1000000` or `10000000000000` to accommodate everything?\n",
    "\n",
    "Currently, I will choose to ignore this and go count some stuff so I can ballpark it.\n"
   ]
  },
  {
   "cell_type": "code",
   "execution_count": 3,
   "id": "a7ef0325-be58-4a8a-9018-0934848239b0",
   "metadata": {},
   "outputs": [],
   "source": [
    "archaea_tax = Path(\"data/gtdb_info/ar122_taxonomy_r202.tsv\")"
   ]
  },
  {
   "cell_type": "code",
   "execution_count": 29,
   "id": "dd274558-18bf-46eb-8a4c-5c49402854f9",
   "metadata": {},
   "outputs": [],
   "source": [
    "official_ranks = ['domain', 'phylum', 'order', 'class', 'family', 'genus', 'species']"
   ]
  },
  {
   "cell_type": "code",
   "execution_count": 51,
   "id": "fb406ba7-c110-4a23-b54c-a0a698694dce",
   "metadata": {},
   "outputs": [],
   "source": [
    "def strip_rank_prefix(rank_string):\n",
    "    return rank_string[3:]"
   ]
  },
  {
   "cell_type": "code",
   "execution_count": 16,
   "id": "3e1e95ec-bc4f-473a-980f-1fa4bcd70c70",
   "metadata": {},
   "outputs": [],
   "source": [
    "def get_rank_level(rank_string):\n",
    "    if rank_string.startswith('d__'):\n",
    "        return 'domain'\n",
    "    elif rank_string.startswith('p__'):\n",
    "        return 'phylum'\n",
    "    elif rank_string.startswith('c__'):\n",
    "        return 'class'\n",
    "    elif rank_string.startswith('o__'):\n",
    "        return 'order'\n",
    "    elif rank_string.startswith('f__'):\n",
    "        return 'family'\n",
    "    elif rank_string.startswith('g__'):\n",
    "        return 'genus'\n",
    "    elif rank_string.startswith('s__'):\n",
    "        return 'species'\n",
    "    else:\n",
    "        print(\"Unknown rank for: {}\".format(rank_string))"
   ]
  },
  {
   "cell_type": "code",
   "execution_count": 45,
   "id": "da6e9588-abb4-44e7-9011-f910d441aa7e",
   "metadata": {},
   "outputs": [],
   "source": [
    "def create_entries_dic(taxonomy_fp):\n",
    "    '''\n",
    "    '''\n",
    "    entries_dic = dict(zip(official_ranks, [[]]*len(official_ranks)))\n",
    "    total_entries = 0\n",
    "    with open(taxonomy_fp, 'r') as fin:\n",
    "        for line in fin:\n",
    "            total_entries +=1\n",
    "            \n",
    "            fields = [f.strip() for f in line.split('\\t')]\n",
    "            lineage = fields[1]\n",
    "            for rank in lineage.split(';'):\n",
    "                level = get_rank_level(rank)\n",
    "                name = strip_rank_prefix(rank)\n",
    "                if len(entries_dic[level]) == 0:\n",
    "                    entries_dic[level] = [name]\n",
    "                else:\n",
    "                    entries_dic[level].append(name)\n",
    "    unique_ids = {k: set(v) for k,v in entries_dic.items()}\n",
    "    print(\"Total entries: {}\".format(total_entries))\n",
    "    return unique_ids\n",
    "    "
   ]
  },
  {
   "cell_type": "code",
   "execution_count": 46,
   "id": "b3b0e569-cada-4a76-bbb9-7528afa6a5f0",
   "metadata": {},
   "outputs": [
    {
     "name": "stdout",
     "output_type": "stream",
     "text": [
      "Total entries: 4316\n"
     ]
    }
   ],
   "source": [
    "archaeal_entries = create_entries_dic(archaea_tax)"
   ]
  },
  {
   "cell_type": "code",
   "execution_count": 47,
   "id": "87974433-a11d-4385-9dcd-e296d1cf50d8",
   "metadata": {},
   "outputs": [
    {
     "name": "stdout",
     "output_type": "stream",
     "text": [
      "domain 1\n",
      "phylum 20\n",
      "order 117\n",
      "class 51\n",
      "family 337\n",
      "genus 851\n",
      "species 2339\n"
     ]
    }
   ],
   "source": [
    "for rank, entry in archaeal_entries.items():\n",
    "    print(rank, len(entry))"
   ]
  },
  {
   "cell_type": "code",
   "execution_count": 48,
   "id": "4b19cf43-9de7-47f8-a56e-2c2e89d52719",
   "metadata": {},
   "outputs": [],
   "source": [
    "bacteria_tax = Path(\"data/gtdb_info/bac120_taxonomy_r202.tsv\")"
   ]
  },
  {
   "cell_type": "code",
   "execution_count": 49,
   "id": "bf9f3fad-323f-4149-bbc4-3c9c4322dc05",
   "metadata": {},
   "outputs": [
    {
     "name": "stdout",
     "output_type": "stream",
     "text": [
      "Total entries: 254090\n"
     ]
    }
   ],
   "source": [
    "bacterial_entries = create_entries_dic(bacteria_tax)"
   ]
  },
  {
   "cell_type": "code",
   "execution_count": 50,
   "id": "fff966a0-28de-4a9d-9f83-a5b91c9d6ded",
   "metadata": {},
   "outputs": [
    {
     "name": "stdout",
     "output_type": "stream",
     "text": [
      "domain 1\n",
      "phylum 149\n",
      "order 1195\n",
      "class 368\n",
      "family 2927\n",
      "genus 12037\n",
      "species 45555\n"
     ]
    }
   ],
   "source": [
    "for rank, entry in bacterial_entries.items():\n",
    "    print(rank ,len(entry))"
   ]
  },
  {
   "cell_type": "markdown",
   "id": "fd116655-f228-4a8b-9282-99ba4ca105c0",
   "metadata": {},
   "source": [
    "Or go see that on the webpage. There are a few differences, though, for archaea.\n",
    "I count 1 extra phylum, 1 extra order, 4 extra classes, 1 extra family."
   ]
  },
  {
   "cell_type": "markdown",
   "id": "92c52c62-53fd-4b66-96a8-0748470c0b75",
   "metadata": {},
   "source": [
    "## Decision point\n",
    "\n",
    "Well hello arbitrariness. I am being generous for families, genera, and species assuming that, lower in the tree,\n",
    "things are going to be fairly stable. (_Laughs in future taxonomics_)\n",
    "\n",
    "* Domains `1 + 1 = 2`  \n",
    "\n",
    "    - I will use integers [2,5] (4 domains)\n",
    "\n",
    "* Phyla `20 + 149 = 169`\n",
    "\n",
    "    - I will use integers `[6,500]` (494 phyla)\n",
    "    \n",
    "* Orders `117 + 1195 = 1312`\n",
    "\n",
    "    - I will use integers `[501,5000]` (4500 orders)\n",
    "\n",
    "* Classes `51 + 368 = 419` \n",
    "\n",
    "    - I will use integers `[5001, 6000]` (1000 classes)\n",
    "\n",
    "- Families `337 + 2927 = 3264`\n",
    "\n",
    "    - I will use integers `[6001, 20000]` (14000 families)\n",
    "\n",
    "* Genera `851 + 12037 = 12888`\n",
    "\n",
    "    - I will use integers `[20001, 80000]` (60000 genera)\n",
    "    \n",
    "* Species `2339 + 45555 = 47894`\n",
    "\n",
    "    - I will use integers `[80001, 1000000]` (920000) species"
   ]
  },
  {
   "cell_type": "markdown",
   "id": "15d0568b-8465-4992-b47a-2bb0085061e8",
   "metadata": {},
   "source": [
    "## Merge the dictionaries\n",
    "\n",
    "One would assume that you can make separate offsets for bacteria and archaea but I am being lazy."
   ]
  },
  {
   "cell_type": "code",
   "execution_count": 60,
   "id": "c77c21c5-80e4-4481-b8e3-06abfe54305f",
   "metadata": {},
   "outputs": [],
   "source": [
    "all_entries = {}\n",
    "for rank in archaeal_entries:\n",
    "    all_entries[rank] = archaeal_entries[rank].union(bacterial_entries[rank])"
   ]
  },
  {
   "cell_type": "code",
   "execution_count": 82,
   "id": "5a912e89-0a4c-43d1-b5be-28173ba91996",
   "metadata": {},
   "outputs": [
    {
     "data": {
      "text/plain": [
       "65948"
      ]
     },
     "execution_count": 82,
     "metadata": {},
     "output_type": "execute_result"
    }
   ],
   "source": [
    "sum([len(v) for v in all_entries.values()])"
   ]
  },
  {
   "cell_type": "code",
   "execution_count": 61,
   "id": "9758a2ca-fcb8-4d64-94dc-713663181edd",
   "metadata": {},
   "outputs": [
    {
     "name": "stdout",
     "output_type": "stream",
     "text": [
      "domain 2\n",
      "phylum 169\n",
      "order 1312\n",
      "class 419\n",
      "family 3264\n",
      "genus 12888\n",
      "species 47894\n"
     ]
    }
   ],
   "source": [
    "# Double check with calculations from above\n",
    "for rank, entry in all_entries.items():\n",
    "    print(rank ,len(entry))"
   ]
  },
  {
   "cell_type": "markdown",
   "id": "31472b00-a4e5-4412-8cbd-ded0f0abdd92",
   "metadata": {},
   "source": [
    "# STEP 2. Create the names.dmp"
   ]
  },
  {
   "cell_type": "code",
   "execution_count": 71,
   "id": "093d8198-84ab-4d44-a111-aefe3001a7ac",
   "metadata": {},
   "outputs": [],
   "source": [
    "offsets = dict(zip(official_ranks, [2,6,501, 5001, 6001, 20001, 80001]))"
   ]
  },
  {
   "cell_type": "code",
   "execution_count": 72,
   "id": "92a04eb5-5d8f-4080-ace1-156f6664f1e1",
   "metadata": {},
   "outputs": [],
   "source": [
    "names_dic = {}\n",
    "for rank in all_entries:\n",
    "    for i, entry in enumerate(all_entries[rank]):\n",
    "        # add the offset of the rank to the rolling counter\n",
    "        uid = i + offsets[rank]\n",
    "        names_dic[uid] = entry"
   ]
  },
  {
   "cell_type": "code",
   "execution_count": 81,
   "id": "796f6a1e-b13b-490b-87e4-7eae126d3633",
   "metadata": {},
   "outputs": [
    {
     "data": {
      "text/plain": [
       "65948"
      ]
     },
     "execution_count": 81,
     "metadata": {},
     "output_type": "execute_result"
    }
   ],
   "source": [
    "len(names_dic)"
   ]
  },
  {
   "cell_type": "markdown",
   "id": "f3e05916-75b4-4ce4-a5dc-6d2009c1bb56",
   "metadata": {},
   "source": [
    "The standard names.dmp ships like \n",
    "```\n",
    "uid | name | | | | | scientific name |\n",
    "uid | name | | | | | some other comment|\n",
    "```\n",
    "\n",
    "What is important here is that:\n",
    "\n",
    "- This is a tab-separated file. Splitting on `\\t` will give you fields (0-based indexed)\n",
    "    - 0: uid\n",
    "    - 1: name\n",
    "    - 6: the comment. Based on equality to the string `'scientific name'` you can filter and grab the official name for ncbi.\n",
    "        \n",
    "This is how `CAT` imports the information [as seen here](https://github.com/dutilh/CAT/blob/e41ebd66a059b67b43c8e141002f37b3df755509/CAT_pack/tax.py#L29).\n",
    "\n",
    "So this is what we will mimic here"
   ]
  },
  {
   "cell_type": "code",
   "execution_count": 73,
   "id": "954c3ea6-b8af-4d91-a787-7b15d8833457",
   "metadata": {},
   "outputs": [],
   "source": [
    "# Create a taxonomy dir if it is not in there\n",
    "taxonomy_dir = Path('results/taxonomy')\n",
    "if not taxonomy_dir.exists():\n",
    "    taxonomy_dir.mkdir()"
   ]
  },
  {
   "cell_type": "code",
   "execution_count": 76,
   "id": "251d07c6-d2ac-4dfc-b928-194af65854cd",
   "metadata": {},
   "outputs": [],
   "source": [
    "# Specify the path to the output file\n",
    "names_dmp = taxonomy_dir / Path('names.dmp')"
   ]
  },
  {
   "cell_type": "code",
   "execution_count": 77,
   "id": "956f7e7c-a326-4e4e-861a-ce34946379f9",
   "metadata": {},
   "outputs": [],
   "source": [
    "# Dump entries in the dump\n",
    "with open(names_dmp, 'w') as fout:\n",
    "    # Write the root first\n",
    "    fout.write(\"1\\troot\\t-\\t-\\t-\\t-\\tscientific name\\n\")\n",
    "    for uid in names_dic:\n",
    "        fout.write(\"{}\\t{}\\t-\\t-\\t-\\t-\\tscientific name\\n\".format(uid, names_dic[uid]))"
   ]
  },
  {
   "cell_type": "markdown",
   "id": "5efe5d23-37d2-45a7-be76-c7a4f7f1a45e",
   "metadata": {},
   "source": [
    "# STEP 3. Create the nodes.dmp\n",
    "\n",
    "This is a bit trickier. You can probably get that from the tree itself in one go.\n",
    "\n",
    "I will use a less elegant approach and parse this from the file."
   ]
  },
  {
   "cell_type": "markdown",
   "id": "0662591d-cb4b-4ec2-bca1-3a7958eba7bf",
   "metadata": {},
   "source": [
    ">A word of caution: Human readable names are not unique!\n",
    "\n",
    "Exhibit 1: [UBA9089](https://gtdb.ecogenomic.org/searches?s=al&q=UBA9089)\n",
    "  - appears as phylum, class, order, family, genus\n",
    "  \n",
    "Exhibit 2: [RBG-13-43-22](https://gtdb.ecogenomic.org/searches?s=al&q=RBG-13-43-22)\n",
    "  - appears as order, family, genus\n",
    " \n",
    "or [undeniable Xzibit 3](https://images.fanpop.com/images/image_uploads/Xzibit-pimp-my-ride-235615_281_211.jpg) \n",
    "\n",
    "In an ideal world I could just inverse the `names_dic` from above like\n",
    "```\n",
    "inv_names_dic = {v:k for k,v in names_dic.items()}\n",
    "```\n",
    "\n",
    "and do the translations on the fly.\n",
    "But that would be too easy, of course...\n",
    "\n",
    "At this point, I am contemplating life choices, trying to figure a clever way out of it.\n",
    "\n",
    "Aha! Eureka! I will not strip the rank prefix and instead keep the name as `p__UPA9089`, `c__UPA9089`. Genious! \\s"
   ]
  },
  {
   "cell_type": "code",
   "execution_count": 86,
   "id": "43b3f4f1-6858-43ac-874d-5c92c9d41ad9",
   "metadata": {},
   "outputs": [],
   "source": [
    "# Modified version of the function to not strip '<rank>__' prefixes\n",
    "def create_raw_entries_dic(taxonomy_fp):\n",
    "    '''\n",
    "    '''\n",
    "    entries_dic = dict(zip(official_ranks, [[]]*len(official_ranks)))\n",
    "    total_entries = 0\n",
    "    with open(taxonomy_fp, 'r') as fin:\n",
    "        for line in fin:\n",
    "            total_entries +=1            \n",
    "            fields = [f.strip() for f in line.split('\\t')]\n",
    "            lineage = fields[1]\n",
    "            for rank in lineage.split(';'):\n",
    "                level = get_rank_level(rank)                \n",
    "                if len(entries_dic[level]) == 0:\n",
    "                    entries_dic[level] = [rank]\n",
    "                else:\n",
    "                    entries_dic[level].append(rank)\n",
    "    unique_ids = {k: set(v) for k,v in entries_dic.items()}\n",
    "    print(\"Total entries: {}\".format(total_entries))\n",
    "    return unique_ids\n",
    "    "
   ]
  },
  {
   "cell_type": "code",
   "execution_count": 84,
   "id": "dd284ede-a5d5-42e5-8a5c-d4b9530aa49a",
   "metadata": {},
   "outputs": [
    {
     "name": "stdout",
     "output_type": "stream",
     "text": [
      "Total entries: 4316\n"
     ]
    }
   ],
   "source": [
    "archaeal_raw = create_raw_entries_dic(archaea_tax)"
   ]
  },
  {
   "cell_type": "code",
   "execution_count": 87,
   "id": "84a55831-692a-4a13-9289-c2e9fd1f0c32",
   "metadata": {},
   "outputs": [
    {
     "name": "stdout",
     "output_type": "stream",
     "text": [
      "domain 1\n",
      "phylum 20\n",
      "order 117\n",
      "class 51\n",
      "family 337\n",
      "genus 851\n",
      "species 2339\n"
     ]
    }
   ],
   "source": [
    "for rank, entry in archaeal_raw.items():\n",
    "    print(rank, len(entry))"
   ]
  },
  {
   "cell_type": "code",
   "execution_count": 85,
   "id": "a86c617b-9273-44e1-9b56-6e6d0ba73831",
   "metadata": {},
   "outputs": [
    {
     "name": "stdout",
     "output_type": "stream",
     "text": [
      "Total entries: 254090\n"
     ]
    }
   ],
   "source": [
    "bacterial_raw = create_raw_entries_dic(bacteria_tax)"
   ]
  },
  {
   "cell_type": "code",
   "execution_count": 88,
   "id": "23d836ef-7d32-460b-90f8-3619b1dd427d",
   "metadata": {},
   "outputs": [
    {
     "name": "stdout",
     "output_type": "stream",
     "text": [
      "domain 1\n",
      "phylum 149\n",
      "order 1195\n",
      "class 368\n",
      "family 2927\n",
      "genus 12037\n",
      "species 45555\n"
     ]
    }
   ],
   "source": [
    "for rank, entry in bacterial_raw.items():\n",
    "    print(rank, len(entry))"
   ]
  },
  {
   "cell_type": "markdown",
   "id": "a3e0cc1c-3e9d-4a6d-a270-f0b473b35a0d",
   "metadata": {},
   "source": [
    "Seems legit... On to merging..."
   ]
  },
  {
   "cell_type": "code",
   "execution_count": 90,
   "id": "e4e3cb15-491d-4d33-acf8-2c996ae6968e",
   "metadata": {},
   "outputs": [],
   "source": [
    "raw_entries ={}\n",
    "for rank in archaeal_raw:\n",
    "    raw_entries[rank] = archaeal_raw[rank].union(bacterial_raw[rank])"
   ]
  },
  {
   "cell_type": "code",
   "execution_count": 91,
   "id": "2cedec5c-cede-4de4-9ac0-40be8e4d7f3a",
   "metadata": {},
   "outputs": [
    {
     "data": {
      "text/plain": [
       "65948"
      ]
     },
     "execution_count": 91,
     "metadata": {},
     "output_type": "execute_result"
    }
   ],
   "source": [
    "sum([len(v) for v in raw_entries.values()])"
   ]
  },
  {
   "cell_type": "code",
   "execution_count": 92,
   "id": "17f8735f-29b7-4f88-95bb-47b866b20976",
   "metadata": {},
   "outputs": [],
   "source": [
    "raw_names_dic = {}\n",
    "for rank in raw_entries:\n",
    "    for i, entry in enumerate(raw_entries[rank]):\n",
    "        # add the offset of the rank to the rolling counter\n",
    "        uid = i + offsets[rank]\n",
    "        raw_names_dic[uid] = entry"
   ]
  },
  {
   "cell_type": "code",
   "execution_count": 96,
   "id": "323b62ae-3a64-4323-b865-8d90baebea9b",
   "metadata": {},
   "outputs": [
    {
     "data": {
      "text/plain": [
       "65948"
      ]
     },
     "execution_count": 96,
     "metadata": {},
     "output_type": "execute_result"
    }
   ],
   "source": [
    "len(raw_names_dic)"
   ]
  },
  {
   "cell_type": "code",
   "execution_count": 93,
   "id": "d12bf0ed-3969-4583-bee3-a1dc9a2bb2ae",
   "metadata": {},
   "outputs": [],
   "source": [
    "# Just don't overwrite yet...\n",
    "names_dmp = taxonomy_dir / Path('names_raw.dmp')"
   ]
  },
  {
   "cell_type": "code",
   "execution_count": 94,
   "id": "cefe6072-2b53-42d9-86ba-b979a630b291",
   "metadata": {},
   "outputs": [],
   "source": [
    "# Dump entries in the dump\n",
    "with open(names_dmp, 'w') as fout:\n",
    "    # Write the root first\n",
    "    fout.write(\"1\\troot\\t-\\t-\\t-\\t-\\tscientific name\\n\")\n",
    "    for uid in raw_names_dic:\n",
    "        fout.write(\"{}\\t{}\\t-\\t-\\t-\\t-\\tscientific name\\n\".format(uid, raw_names_dic[uid]))"
   ]
  },
  {
   "cell_type": "code",
   "execution_count": 95,
   "id": "334d134a-1748-49de-b3f4-6d09f45e480d",
   "metadata": {},
   "outputs": [],
   "source": [
    "inv_names_dic = {v:k for k,v in raw_names_dic.items()}"
   ]
  },
  {
   "cell_type": "code",
   "execution_count": 97,
   "id": "19053142-2b90-4393-ba1a-f8c2a00d3a19",
   "metadata": {},
   "outputs": [
    {
     "data": {
      "text/plain": [
       "65948"
      ]
     },
     "execution_count": 97,
     "metadata": {},
     "output_type": "execute_result"
    }
   ],
   "source": [
    "len(inv_names_dic)"
   ]
  },
  {
   "cell_type": "code",
   "execution_count": 98,
   "id": "6c7bf994-46f4-4660-87f6-6f0b707fa9e2",
   "metadata": {},
   "outputs": [],
   "source": [
    "assert len(raw_names_dic) == len(inv_names_dic)"
   ]
  },
  {
   "cell_type": "markdown",
   "id": "8f8c4cc6-6ada-4c04-9d27-a64950881473",
   "metadata": {},
   "source": [
    "Sooooo... that looks ok! Makes me wonder if I needed to go through all the fuss for unique numeric ids anyway..."
   ]
  },
  {
   "cell_type": "code",
   "execution_count": 116,
   "id": "c5ba0b52-5fcf-4829-bbb7-3af519dc24b2",
   "metadata": {},
   "outputs": [],
   "source": [
    "nodes_dmp = 'results/taxonomy/nodes.dmp'"
   ]
  },
  {
   "cell_type": "code",
   "execution_count": 119,
   "id": "ea9a5c8a-a206-4a70-9262-43be4e0866d0",
   "metadata": {},
   "outputs": [
    {
     "name": "stdout",
     "output_type": "stream",
     "text": [
      "Parsed taxonomy: data/gtdb_info/ar122_taxonomy_r202.tsv\n",
      "Parsed taxonomy: data/gtdb_info/bac120_taxonomy_r202.tsv\n"
     ]
    }
   ],
   "source": [
    "seen_ranks = []\n",
    "with open(nodes_dmp, 'w') as fout:\n",
    "    for taxonomy_fp in [archaea_tax, bacteria_tax]:\n",
    "        with open(taxonomy_fp, 'r') as fin:\n",
    "            for line in fin:\n",
    "                fields = [f.strip() for f in line.split('\\t')]\n",
    "                lineage = fields[1]\n",
    "                lineage_list = lineage.split(';')\n",
    "                for i, rank in enumerate(lineage_list):\n",
    "                    if i == 0 and (rank not in seen_ranks):\n",
    "                        child_id = inv_names_dic[rank]\n",
    "                        parent_id = 1\n",
    "                        fout.write(\"{}\\t{}\\t{}\\n\".format(child_id, parent_id, 'domain'))\n",
    "                        seen_ranks.append(rank)\n",
    "                    elif i >=1 and (rank not in seen_ranks):\n",
    "                        child_id = inv_names_dic[rank]\n",
    "                        parent_name = lineage_list[i-1]\n",
    "                        parent_id = inv_names_dic[parent_name]\n",
    "                        fout.write(\"{}\\t{}\\t{}\\n\".format(child_id, parent_id, official_ranks[i]))\n",
    "                        seen_ranks.append(rank)\n",
    "                    else:\n",
    "                        pass\n",
    "        print(\"Parsed taxonomy: {}\".format(taxonomy_fp))\n",
    "#                 print(\"Not sure what to do here: {}\".format(line))\n",
    "                \n",
    "        "
   ]
  },
  {
   "cell_type": "code",
   "execution_count": 118,
   "id": "f2e0f67b-0e12-45eb-ad90-e8741fe444e2",
   "metadata": {},
   "outputs": [
    {
     "data": {
      "text/plain": [
       "65948"
      ]
     },
     "execution_count": 118,
     "metadata": {},
     "output_type": "execute_result"
    }
   ],
   "source": [
    "len(set(seen_ranks))"
   ]
  }
 ],
 "metadata": {
  "kernelspec": {
   "display_name": "Python [conda env:jupy] *",
   "language": "python",
   "name": "conda-env-jupy-py"
  },
  "language_info": {
   "codemirror_mode": {
    "name": "ipython",
    "version": 3
   },
   "file_extension": ".py",
   "mimetype": "text/x-python",
   "name": "python",
   "nbconvert_exporter": "python",
   "pygments_lexer": "ipython3",
   "version": "3.6.13"
  }
 },
 "nbformat": 4,
 "nbformat_minor": 5
}
